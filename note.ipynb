{
 "cells": [
  {
   "cell_type": "code",
   "execution_count": 1,
   "id": "414612cf",
   "metadata": {},
   "outputs": [
    {
     "ename": "AssertionError",
     "evalue": "State mismatch: KV cache length 2 != levels_cache length 3",
     "output_type": "error",
     "traceback": [
      "\u001b[0;31m---------------------------------------------------------------------------\u001b[0m",
      "\u001b[0;31mAssertionError\u001b[0m                            Traceback (most recent call last)",
      "Cell \u001b[0;32mIn[1], line 23\u001b[0m\n\u001b[1;32m     21\u001b[0m \u001b[38;5;66;03m# 4. Generate text using the custom SORL logic\u001b[39;00m\n\u001b[1;32m     22\u001b[0m prompt \u001b[38;5;241m=\u001b[39m torch\u001b[38;5;241m.\u001b[39mtensor([[\u001b[38;5;241m1\u001b[39m, \u001b[38;5;241m2\u001b[39m, \u001b[38;5;241m3\u001b[39m]])\n\u001b[0;32m---> 23\u001b[0m generated_sequence \u001b[38;5;241m=\u001b[39m sorl_model\u001b[38;5;241m.\u001b[39mgenerate(\n\u001b[1;32m     24\u001b[0m     input_ids\u001b[38;5;241m=\u001b[39mprompt,\n\u001b[1;32m     25\u001b[0m     max_new_tokens\u001b[38;5;241m=\u001b[39m\u001b[38;5;241m50\u001b[39m,\n\u001b[1;32m     26\u001b[0m     force_abstraction_every_n\u001b[38;5;241m=\u001b[39m\u001b[38;5;241m10\u001b[39m \u001b[38;5;66;03m# Example: force an abstraction token every 10 steps\u001b[39;00m\n\u001b[1;32m     27\u001b[0m )\n\u001b[1;32m     29\u001b[0m \u001b[38;5;28mprint\u001b[39m(\u001b[38;5;124m\"\u001b[39m\u001b[38;5;124mGenerated Sequence:\u001b[39m\u001b[38;5;124m\"\u001b[39m, generated_sequence)\n",
      "File \u001b[0;32m~/anaconda3/lib/python3.12/site-packages/torch/utils/_contextlib.py:116\u001b[0m, in \u001b[0;36mcontext_decorator.<locals>.decorate_context\u001b[0;34m(*args, **kwargs)\u001b[0m\n\u001b[1;32m    113\u001b[0m \u001b[38;5;129m@functools\u001b[39m\u001b[38;5;241m.\u001b[39mwraps(func)\n\u001b[1;32m    114\u001b[0m \u001b[38;5;28;01mdef\u001b[39;00m \u001b[38;5;21mdecorate_context\u001b[39m(\u001b[38;5;241m*\u001b[39margs, \u001b[38;5;241m*\u001b[39m\u001b[38;5;241m*\u001b[39mkwargs):\n\u001b[1;32m    115\u001b[0m     \u001b[38;5;28;01mwith\u001b[39;00m ctx_factory():\n\u001b[0;32m--> 116\u001b[0m         \u001b[38;5;28;01mreturn\u001b[39;00m func(\u001b[38;5;241m*\u001b[39margs, \u001b[38;5;241m*\u001b[39m\u001b[38;5;241m*\u001b[39mkwargs)\n",
      "File \u001b[0;32m~/Implementation/minimind/model/extend_minimind.py:109\u001b[0m, in \u001b[0;36mSorlModelWrapper.generate\u001b[0;34m(self, input_ids, max_new_tokens, temperature, top_k, force_abstraction_every_n)\u001b[0m\n\u001b[1;32m    106\u001b[0m seq_len \u001b[38;5;241m=\u001b[39m current_pkv[\u001b[38;5;241m0\u001b[39m][\u001b[38;5;241m0\u001b[39m]\u001b[38;5;241m.\u001b[39mshape[\u001b[38;5;241m2\u001b[39m]\n\u001b[1;32m    108\u001b[0m \u001b[38;5;66;03m# Ensure levels_cache corresponds to the KV cache we are about to prune\u001b[39;00m\n\u001b[0;32m--> 109\u001b[0m \u001b[38;5;28;01massert\u001b[39;00m seq_len \u001b[38;5;241m==\u001b[39m levels_cache\u001b[38;5;241m.\u001b[39mshape[\u001b[38;5;241m1\u001b[39m], \u001b[38;5;124mf\u001b[39m\u001b[38;5;124m\"\u001b[39m\u001b[38;5;124mState mismatch: KV cache length \u001b[39m\u001b[38;5;132;01m{\u001b[39;00mseq_len\u001b[38;5;132;01m}\u001b[39;00m\u001b[38;5;124m != levels_cache length \u001b[39m\u001b[38;5;132;01m{\u001b[39;00mlevels_cache\u001b[38;5;241m.\u001b[39mshape[\u001b[38;5;241m1\u001b[39m]\u001b[38;5;132;01m}\u001b[39;00m\u001b[38;5;124m\"\u001b[39m\n\u001b[1;32m    111\u001b[0m is_recent \u001b[38;5;241m=\u001b[39m torch\u001b[38;5;241m.\u001b[39marange(seq_len, device\u001b[38;5;241m=\u001b[39mdevice) \u001b[38;5;241m>\u001b[39m\u001b[38;5;241m=\u001b[39m (seq_len \u001b[38;5;241m-\u001b[39m \u001b[38;5;28mself\u001b[39m\u001b[38;5;241m.\u001b[39mconfig[\u001b[38;5;124m\"\u001b[39m\u001b[38;5;124mmemory_span\u001b[39m\u001b[38;5;124m\"\u001b[39m])\n\u001b[1;32m    112\u001b[0m is_high_level \u001b[38;5;241m=\u001b[39m (levels_cache \u001b[38;5;241m>\u001b[39m \u001b[38;5;241m0\u001b[39m)\u001b[38;5;241m.\u001b[39msqueeze(\u001b[38;5;241m0\u001b[39m)\n",
      "\u001b[0;31mAssertionError\u001b[0m: State mismatch: KV cache length 2 != levels_cache length 3"
     ]
    }
   ],
   "source": [
    "# In your notebook or script:\n",
    "from model.model_minimind import MiniMindForCausalLM, MiniMindConfig\n",
    "from model.extend_minimind import SorlModelWrapper\n",
    "import torch \n",
    "\n",
    "# 1. Create the base model\n",
    "minimind_config = MiniMindConfig()\n",
    "base_model = MiniMindForCausalLM(minimind_config)\n",
    "# ... load your trained weights into base_model ...\n",
    "\n",
    "# 2. Define the SORL configuration\n",
    "sorl_config = {\n",
    "    \"vocab_size_list\": [128, 64, 32], # Must match your SORL setup\n",
    "    \"memory_span\": 512,\n",
    "    # ... any other SORL parameters you need ...\n",
    "}\n",
    "\n",
    "# 3. Create the SORL wrapper\n",
    "sorl_model = SorlModelWrapper(base_model, sorl_config)\n",
    "\n",
    "# 4. Generate text using the custom SORL logic\n",
    "prompt = torch.tensor([[1, 2, 3]])\n",
    "generated_sequence = sorl_model.generate(\n",
    "    input_ids=prompt,\n",
    "    max_new_tokens=50,\n",
    "    force_abstraction_every_n=10 # Example: force an abstraction token every 10 steps\n",
    ")\n",
    "\n",
    "print(\"Generated Sequence:\", generated_sequence)\n"
   ]
  },
  {
   "cell_type": "markdown",
   "id": "6a08b874",
   "metadata": {},
   "source": [
    "#### Towards Alignment\n",
    "- And honestly, GPT->GAT change is really on .generate / .denoise method, as well as the tokenization"
   ]
  },
  {
   "cell_type": "code",
   "execution_count": 3,
   "id": "5d5028a0",
   "metadata": {},
   "outputs": [
    {
     "name": "stdout",
     "output_type": "stream",
     "text": [
      "Setup complete. Model is on device: cpu\n"
     ]
    }
   ],
   "source": [
    "import torch\n",
    "import torch.nn.functional as F\n",
    "from typing import Optional\n",
    "from transformers import LogitsProcessor\n",
    "\n",
    "from model.extend_minimind import MiniMindForGeneration, infer_level\n",
    "from model.model_minimind import MiniMindConfig\n",
    "\n",
    "# 1. Create the base model using our compatible subclass\n",
    "minimind_config = MiniMindConfig()\n",
    "model = MiniMindForGeneration(minimind_config)\n",
    "model.eval()\n",
    "device = model.device\n",
    "\n",
    "# 2. Define the SORL configuration\n",
    "sorl_config = {\n",
    "    \"vocab_size_list\": [128, 64, 32], # Must match your SORL setup\n",
    "    \"memory_span\": 5, # Using a small number for easy debugging\n",
    "}\n",
    "\n",
    "# 3. SORL vocabulary setup\n",
    "vocab_sizes = torch.tensor(sorl_config[\"vocab_size_list\"]).to(device) + 1\n",
    "level_mask_tokens = vocab_sizes.cumsum(dim=0) - 1\n",
    "\n",
    "print(\"Setup complete. Model is on device:\", device)"
   ]
  },
  {
   "cell_type": "code",
   "execution_count": 4,
   "id": "26580615",
   "metadata": {},
   "outputs": [
    {
     "name": "stdout",
     "output_type": "stream",
     "text": [
      "--- Initial State ---\n",
      "Generated IDs: tensor([[ 10,  20, 130,  40, 150]])\n",
      "Levels Cache: tensor([[0, 0, 1, 0, 1]])\n",
      "KV Cache: None\n"
     ]
    }
   ],
   "source": [
    "# --- Initial State ---\n",
    "# The prompt we want the model to complete\n",
    "prompt_ids = torch.tensor([[10, 20, 130, 40, 150]], device=device) # Using some high/low level tokens\n",
    "\n",
    "# The sequence of generated tokens, starting with the prompt\n",
    "generated_ids = prompt_ids.clone()\n",
    "\n",
    "# The KV cache from the previous step (starts as None)\n",
    "past_key_values = None\n",
    "\n",
    "# The SORL levels corresponding to every token in the KV cache\n",
    "levels_cache = infer_level(generated_ids, vocab_sizes, level_mask_tokens[0])\n",
    "\n",
    "print(\"--- Initial State ---\")\n",
    "print(\"Generated IDs:\", generated_ids)\n",
    "print(\"Levels Cache:\", levels_cache)\n",
    "print(\"KV Cache:\", past_key_values)"
   ]
  },
  {
   "cell_type": "code",
   "execution_count": 5,
   "id": "e645cb22",
   "metadata": {},
   "outputs": [
    {
     "name": "stdout",
     "output_type": "stream",
     "text": [
      "--- Step Output (Token #1) ---\n",
      "New Token ID: 3601\n",
      "New Token Level: 0\n",
      "\n",
      "--- State BEFORE Pruning ---\n",
      "KV Cache Length: 2\n",
      "Levels Cache:    tensor([[0, 0, 1, 0, 1, 0]])\n"
     ]
    },
    {
     "ename": "AssertionError",
     "evalue": "CRITICAL: State mismatch before pruning!",
     "output_type": "error",
     "traceback": [
      "\u001b[0;31m---------------------------------------------------------------------------\u001b[0m",
      "\u001b[0;31mAssertionError\u001b[0m                            Traceback (most recent call last)",
      "Cell \u001b[0;32mIn[5], line 33\u001b[0m\n\u001b[1;32m     31\u001b[0m \u001b[38;5;66;03m# 5. Prune the state for the *next* iteration\u001b[39;00m\n\u001b[1;32m     32\u001b[0m seq_len \u001b[38;5;241m=\u001b[39m current_pkv[\u001b[38;5;241m0\u001b[39m][\u001b[38;5;241m0\u001b[39m]\u001b[38;5;241m.\u001b[39mshape[\u001b[38;5;241m2\u001b[39m]\n\u001b[0;32m---> 33\u001b[0m \u001b[38;5;28;01massert\u001b[39;00m seq_len \u001b[38;5;241m==\u001b[39m levels_cache\u001b[38;5;241m.\u001b[39mshape[\u001b[38;5;241m1\u001b[39m], \u001b[38;5;124m\"\u001b[39m\u001b[38;5;124mCRITICAL: State mismatch before pruning!\u001b[39m\u001b[38;5;124m\"\u001b[39m\n\u001b[1;32m     35\u001b[0m is_recent \u001b[38;5;241m=\u001b[39m torch\u001b[38;5;241m.\u001b[39marange(seq_len, device\u001b[38;5;241m=\u001b[39mdevice) \u001b[38;5;241m>\u001b[39m\u001b[38;5;241m=\u001b[39m (seq_len \u001b[38;5;241m-\u001b[39m sorl_config[\u001b[38;5;124m\"\u001b[39m\u001b[38;5;124mmemory_span\u001b[39m\u001b[38;5;124m\"\u001b[39m])\n\u001b[1;32m     36\u001b[0m is_high_level \u001b[38;5;241m=\u001b[39m (levels_cache \u001b[38;5;241m>\u001b[39m \u001b[38;5;241m0\u001b[39m)\u001b[38;5;241m.\u001b[39msqueeze(\u001b[38;5;241m0\u001b[39m)\n",
      "\u001b[0;31mAssertionError\u001b[0m: CRITICAL: State mismatch before pruning!"
     ]
    }
   ],
   "source": [
    "# --- Perform one step of generation ---\n",
    "\n",
    "# 1. Prepare inputs for the model\n",
    "# The model's internal helper function correctly handles the KV cache\n",
    "model_inputs = model.prepare_inputs_for_generation(\n",
    "    input_ids=generated_ids, \n",
    "    past_key_values=past_key_values\n",
    ")\n",
    "\n",
    "# 2. Forward pass to get logits and the new, full KV cache\n",
    "outputs = model(**model_inputs)\n",
    "next_token_logits = outputs.logits[:, -1, :]\n",
    "current_pkv = outputs.past_key_values\n",
    "\n",
    "# 3. Sample the next token (using greedy search for simplicity)\n",
    "next_token_id = torch.argmax(next_token_logits, dim=-1).unsqueeze(0)\n",
    "\n",
    "# 4. Update our generated sequence and levels cache with the new token's info\n",
    "generated_ids = torch.cat([generated_ids, next_token_id], dim=1)\n",
    "new_level = infer_level(next_token_id, vocab_sizes, level_mask_tokens[0])\n",
    "levels_cache = torch.cat([levels_cache, new_level], dim=1)\n",
    "\n",
    "print(f\"--- Step Output (Token #{generated_ids.shape[1] - prompt_ids.shape[1]}) ---\")\n",
    "print(\"New Token ID:\", next_token_id.item())\n",
    "print(\"New Token Level:\", new_level.item())\n",
    "print(\"\\n--- State BEFORE Pruning ---\")\n",
    "print(\"KV Cache Length:\", current_pkv[0][0].shape[2])\n",
    "print(\"Levels Cache:   \", levels_cache)\n",
    "\n",
    "\n",
    "# 5. Prune the state for the *next* iteration\n",
    "seq_len = current_pkv[0][0].shape[2]\n",
    "assert seq_len == levels_cache.shape[1], \"CRITICAL: State mismatch before pruning!\"\n",
    "\n",
    "is_recent = torch.arange(seq_len, device=device) >= (seq_len - sorl_config[\"memory_span\"])\n",
    "is_high_level = (levels_cache > 0).squeeze(0)\n",
    "\n",
    "keep_mask = is_recent | is_high_level\n",
    "keep_indices = torch.where(keep_mask)[0]\n",
    "\n",
    "pruned_pkv_list = []\n",
    "for k, v in current_pkv:\n",
    "    pruned_k = k[:, :, keep_indices, :]\n",
    "    pruned_v = v[:, :, keep_indices, :]\n",
    "    pruned_pkv_list.append((pruned_k, pruned_v))\n",
    "\n",
    "# This is the final state we carry over to the next loop iteration\n",
    "past_key_values = tuple(pruned_pkv_list) \n",
    "levels_cache = levels_cache[:, keep_indices]\n",
    "\n",
    "print(\"\\n--- State AFTER Pruning (for next step) ---\")\n",
    "print(\"Kept Indices:   \", keep_indices.tolist())\n",
    "print(\"Pruned KV Cache Length:\", past_key_values[0][0].shape[2])\n",
    "print(\"Pruned Levels Cache:   \", levels_cache)\n",
    "print(\"-------------------------------------------\\n\")\n"
   ]
  },
  {
   "cell_type": "code",
   "execution_count": null,
   "id": "592ff0ed",
   "metadata": {},
   "outputs": [],
   "source": []
  }
 ],
 "metadata": {
  "kernelspec": {
   "display_name": "base",
   "language": "python",
   "name": "python3"
  },
  "language_info": {
   "codemirror_mode": {
    "name": "ipython",
    "version": 3
   },
   "file_extension": ".py",
   "mimetype": "text/x-python",
   "name": "python",
   "nbconvert_exporter": "python",
   "pygments_lexer": "ipython3",
   "version": "3.12.7"
  }
 },
 "nbformat": 4,
 "nbformat_minor": 5
}
